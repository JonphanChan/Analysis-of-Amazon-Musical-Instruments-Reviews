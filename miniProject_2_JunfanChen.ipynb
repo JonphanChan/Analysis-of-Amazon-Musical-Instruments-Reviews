{
 "cells": [
  {
   "cell_type": "code",
   "execution_count": 1,
   "metadata": {},
   "outputs": [],
   "source": [
    "import urllib.request\n",
    "import json\n",
    "import pandas as pd\n",
    "import numpy as np\n",
    "import matplotlib.pyplot as plt\n",
    "import seaborn as sns\n",
    "import re\n",
    "\n",
    "from sklearn.feature_extraction.text import TfidfVectorizer, CountVectorizer\n",
    "from nltk.corpus import stopwords\n",
    "from nltk import word_tokenize, sent_tokenize\n",
    "\n",
    "import collections \n",
    "from wordcloud import wordcloud,ImageColorGenerator\n",
    "\n",
    "from PIL import Image \n",
    "import matplotlib.pyplot as plt \n",
    "import imageio"
   ]
  },
  {
   "cell_type": "code",
   "execution_count": 2,
   "metadata": {},
   "outputs": [],
   "source": [
    "f = open('Musical_Instruments_5.json', encoding='utf-8')\n",
    "\n",
    "lst = f.readlines()\n",
    "\n",
    "# print(d)\n",
    "f.close()"
   ]
  },
  {
   "cell_type": "code",
   "execution_count": 3,
   "metadata": {},
   "outputs": [
    {
     "data": {
      "text/plain": [
       "10261"
      ]
     },
     "execution_count": 3,
     "metadata": {},
     "output_type": "execute_result"
    }
   ],
   "source": [
    "len(lst)"
   ]
  },
  {
   "cell_type": "code",
   "execution_count": 4,
   "metadata": {},
   "outputs": [
    {
     "data": {
      "text/plain": [
       "list"
      ]
     },
     "execution_count": 4,
     "metadata": {},
     "output_type": "execute_result"
    }
   ],
   "source": [
    "type(lst)"
   ]
  },
  {
   "cell_type": "code",
   "execution_count": 5,
   "metadata": {},
   "outputs": [],
   "source": [
    "test = []\n",
    "for line in lst:\n",
    "    eq_parsed_json = json.loads(lst[0])\n",
    "    for key in eq_parsed_json.keys():\n",
    "        test.append(key)"
   ]
  },
  {
   "cell_type": "code",
   "execution_count": 6,
   "metadata": {},
   "outputs": [
    {
     "data": {
      "text/plain": [
       "{'asin',\n",
       " 'helpful',\n",
       " 'overall',\n",
       " 'reviewText',\n",
       " 'reviewTime',\n",
       " 'reviewerID',\n",
       " 'reviewerName',\n",
       " 'summary',\n",
       " 'unixReviewTime'}"
      ]
     },
     "execution_count": 6,
     "metadata": {},
     "output_type": "execute_result"
    }
   ],
   "source": [
    "# find out the keys in this json file\n",
    "set(test)"
   ]
  },
  {
   "cell_type": "code",
   "execution_count": 7,
   "metadata": {},
   "outputs": [
    {
     "data": {
      "text/plain": [
       "\"Not much to write about here, but it does exactly what it's supposed to. filters out the pop sounds. now my recordings are much more crisp. it is one of the lowest prices pop filters on amazon so might as well buy it, they honestly work the same despite their pricing,\""
      ]
     },
     "execution_count": 7,
     "metadata": {},
     "output_type": "execute_result"
    }
   ],
   "source": [
    "eq_parsed_json['reviewText']"
   ]
  },
  {
   "cell_type": "code",
   "execution_count": 8,
   "metadata": {},
   "outputs": [
    {
     "data": {
      "text/plain": [
       "'good'"
      ]
     },
     "execution_count": 8,
     "metadata": {},
     "output_type": "execute_result"
    }
   ],
   "source": [
    "eq_parsed_json['summary']"
   ]
  },
  {
   "cell_type": "code",
   "execution_count": 9,
   "metadata": {},
   "outputs": [
    {
     "name": "stdout",
     "output_type": "stream",
     "text": [
      "{\n",
      "  \"reviewerID\": \"A2IBPI20UZIR0U\",\n",
      "  \"asin\": \"1384719342\",\n",
      "  \"reviewerName\": \"cassandra tu \\\"Yeah, well, that's just like, u...\",\n",
      "  \"helpful\": [\n",
      "    0,\n",
      "    0\n",
      "  ],\n",
      "  \"reviewText\": \"Not much to write about here, but it does exactly what it's supposed to. filters out the pop sounds. now my recordings are much more crisp. it is one of the lowest prices pop filters on amazon so might as well buy it, they honestly work the same despite their pricing,\",\n",
      "  \"overall\": 5.0,\n",
      "  \"summary\": \"good\",\n",
      "  \"unixReviewTime\": 1393545600,\n",
      "  \"reviewTime\": \"02 28, 2014\"\n",
      "}\n"
     ]
    }
   ],
   "source": [
    "print(json.dumps(eq_parsed_json, indent = 2))"
   ]
  },
  {
   "cell_type": "code",
   "execution_count": 10,
   "metadata": {},
   "outputs": [],
   "source": [
    "asin = []\n",
    "helpful = []\n",
    "overall = []\n",
    "reviewText = []\n",
    "reviewTime = []\n",
    "reviewerID = []\n",
    "reviewerName = []\n",
    "summary = []\n",
    "unixReviewTime = []\n"
   ]
  },
  {
   "cell_type": "code",
   "execution_count": 11,
   "metadata": {},
   "outputs": [],
   "source": [
    "# store the data into a dataframe\n",
    "for line in lst:\n",
    "    aa = json.loads(line)\n",
    "    try:\n",
    "        asin.append(aa['asin'])\n",
    "    except (AttributeError, KeyError):\n",
    "        asin.append(None_1)\n",
    "    try:\n",
    "        helpful.append(aa['helpful'])\n",
    "    except (AttributeError, KeyError):\n",
    "        helpful.append(None)    \n",
    "    try:\n",
    "        overall.append(aa['overall'])\n",
    "    except (AttributeError, KeyError):\n",
    "        overall.append(None)\n",
    "    try:\n",
    "        reviewText.append(aa['reviewText'])\n",
    "    except (AttributeError, KeyError):\n",
    "        reviewText.append(None)        \n",
    "    try:\n",
    "        reviewTime.append(aa['reviewTime'])\n",
    "    except (AttributeError, KeyError):\n",
    "        reviewTime.append(None)\n",
    "    try:\n",
    "        reviewerID.append(aa['reviewerID'])\n",
    "    except (AttributeError, KeyError):\n",
    "        reviewerID.append(None)\n",
    "    try:\n",
    "        reviewerName.append(aa['reviewerName'])\n",
    "    except (AttributeError, KeyError):\n",
    "        reviewerName.append(None)\n",
    "    try:\n",
    "        summary.append(aa['summary'])\n",
    "    except (AttributeError, KeyError):\n",
    "        summary.append(None)\n",
    "    try:\n",
    "        unixReviewTime.append(aa['unixReviewTime'])\n",
    "    except (AttributeError, KeyError):\n",
    "        unixReviewTime.append(None)\n"
   ]
  },
  {
   "cell_type": "code",
   "execution_count": 12,
   "metadata": {},
   "outputs": [
    {
     "data": {
      "text/html": [
       "<div>\n",
       "<style scoped>\n",
       "    .dataframe tbody tr th:only-of-type {\n",
       "        vertical-align: middle;\n",
       "    }\n",
       "\n",
       "    .dataframe tbody tr th {\n",
       "        vertical-align: top;\n",
       "    }\n",
       "\n",
       "    .dataframe thead th {\n",
       "        text-align: right;\n",
       "    }\n",
       "</style>\n",
       "<table border=\"1\" class=\"dataframe\">\n",
       "  <thead>\n",
       "    <tr style=\"text-align: right;\">\n",
       "      <th></th>\n",
       "      <th>asin</th>\n",
       "      <th>helpful</th>\n",
       "      <th>overall</th>\n",
       "      <th>reviewText</th>\n",
       "      <th>reviewTime</th>\n",
       "      <th>reviewerID</th>\n",
       "      <th>reviewerName</th>\n",
       "      <th>summary</th>\n",
       "      <th>unixReviewTime</th>\n",
       "    </tr>\n",
       "  </thead>\n",
       "  <tbody>\n",
       "    <tr>\n",
       "      <th>0</th>\n",
       "      <td>1384719342</td>\n",
       "      <td>[0, 0]</td>\n",
       "      <td>5.0</td>\n",
       "      <td>Not much to write about here, but it does exac...</td>\n",
       "      <td>02 28, 2014</td>\n",
       "      <td>A2IBPI20UZIR0U</td>\n",
       "      <td>cassandra tu \"Yeah, well, that's just like, u...</td>\n",
       "      <td>good</td>\n",
       "      <td>1393545600</td>\n",
       "    </tr>\n",
       "    <tr>\n",
       "      <th>1</th>\n",
       "      <td>1384719342</td>\n",
       "      <td>[13, 14]</td>\n",
       "      <td>5.0</td>\n",
       "      <td>The product does exactly as it should and is q...</td>\n",
       "      <td>03 16, 2013</td>\n",
       "      <td>A14VAT5EAX3D9S</td>\n",
       "      <td>Jake</td>\n",
       "      <td>Jake</td>\n",
       "      <td>1363392000</td>\n",
       "    </tr>\n",
       "    <tr>\n",
       "      <th>2</th>\n",
       "      <td>1384719342</td>\n",
       "      <td>[1, 1]</td>\n",
       "      <td>5.0</td>\n",
       "      <td>The primary job of this device is to block the...</td>\n",
       "      <td>08 28, 2013</td>\n",
       "      <td>A195EZSQDW3E21</td>\n",
       "      <td>Rick Bennette \"Rick Bennette\"</td>\n",
       "      <td>It Does The Job Well</td>\n",
       "      <td>1377648000</td>\n",
       "    </tr>\n",
       "    <tr>\n",
       "      <th>3</th>\n",
       "      <td>1384719342</td>\n",
       "      <td>[0, 0]</td>\n",
       "      <td>5.0</td>\n",
       "      <td>Nice windscreen protects my MXL mic and preven...</td>\n",
       "      <td>02 14, 2014</td>\n",
       "      <td>A2C00NNG1ZQQG2</td>\n",
       "      <td>RustyBill \"Sunday Rocker\"</td>\n",
       "      <td>GOOD WINDSCREEN FOR THE MONEY</td>\n",
       "      <td>1392336000</td>\n",
       "    </tr>\n",
       "    <tr>\n",
       "      <th>4</th>\n",
       "      <td>1384719342</td>\n",
       "      <td>[0, 0]</td>\n",
       "      <td>5.0</td>\n",
       "      <td>This pop filter is great. It looks and perform...</td>\n",
       "      <td>02 21, 2014</td>\n",
       "      <td>A94QU4C90B1AX</td>\n",
       "      <td>SEAN MASLANKA</td>\n",
       "      <td>No more pops when I record my vocals.</td>\n",
       "      <td>1392940800</td>\n",
       "    </tr>\n",
       "  </tbody>\n",
       "</table>\n",
       "</div>"
      ],
      "text/plain": [
       "         asin   helpful  overall  \\\n",
       "0  1384719342    [0, 0]      5.0   \n",
       "1  1384719342  [13, 14]      5.0   \n",
       "2  1384719342    [1, 1]      5.0   \n",
       "3  1384719342    [0, 0]      5.0   \n",
       "4  1384719342    [0, 0]      5.0   \n",
       "\n",
       "                                          reviewText   reviewTime  \\\n",
       "0  Not much to write about here, but it does exac...  02 28, 2014   \n",
       "1  The product does exactly as it should and is q...  03 16, 2013   \n",
       "2  The primary job of this device is to block the...  08 28, 2013   \n",
       "3  Nice windscreen protects my MXL mic and preven...  02 14, 2014   \n",
       "4  This pop filter is great. It looks and perform...  02 21, 2014   \n",
       "\n",
       "       reviewerID                                      reviewerName  \\\n",
       "0  A2IBPI20UZIR0U  cassandra tu \"Yeah, well, that's just like, u...   \n",
       "1  A14VAT5EAX3D9S                                              Jake   \n",
       "2  A195EZSQDW3E21                     Rick Bennette \"Rick Bennette\"   \n",
       "3  A2C00NNG1ZQQG2                         RustyBill \"Sunday Rocker\"   \n",
       "4   A94QU4C90B1AX                                     SEAN MASLANKA   \n",
       "\n",
       "                                 summary  unixReviewTime  \n",
       "0                                   good      1393545600  \n",
       "1                                   Jake      1363392000  \n",
       "2                   It Does The Job Well      1377648000  \n",
       "3          GOOD WINDSCREEN FOR THE MONEY      1392336000  \n",
       "4  No more pops when I record my vocals.      1392940800  "
      ]
     },
     "execution_count": 12,
     "metadata": {},
     "output_type": "execute_result"
    }
   ],
   "source": [
    "df_js = pd.DataFrame({'asin':asin, 'helpful':helpful, 'overall':overall, 'reviewText':reviewText, 'reviewTime':reviewTime,\n",
    "                      'reviewerID':reviewerID, 'reviewerName':reviewerName, 'summary':summary, 'unixReviewTime':unixReviewTime})\n",
    "df_js.head()"
   ]
  },
  {
   "cell_type": "code",
   "execution_count": 13,
   "metadata": {},
   "outputs": [
    {
     "data": {
      "text/plain": [
       "10261"
      ]
     },
     "execution_count": 13,
     "metadata": {},
     "output_type": "execute_result"
    }
   ],
   "source": [
    "len(df_js)"
   ]
  },
  {
   "cell_type": "code",
   "execution_count": 14,
   "metadata": {},
   "outputs": [
    {
     "data": {
      "text/plain": [
       "1570"
      ]
     },
     "execution_count": 14,
     "metadata": {},
     "output_type": "execute_result"
    }
   ],
   "source": [
    "len(df_js['reviewTime'].unique())"
   ]
  },
  {
   "cell_type": "code",
   "execution_count": 15,
   "metadata": {},
   "outputs": [],
   "source": [
    "df_new = df_js[['overall', 'reviewTime']]"
   ]
  },
  {
   "cell_type": "code",
   "execution_count": 16,
   "metadata": {},
   "outputs": [
    {
     "data": {
      "text/html": [
       "<div>\n",
       "<style scoped>\n",
       "    .dataframe tbody tr th:only-of-type {\n",
       "        vertical-align: middle;\n",
       "    }\n",
       "\n",
       "    .dataframe tbody tr th {\n",
       "        vertical-align: top;\n",
       "    }\n",
       "\n",
       "    .dataframe thead th {\n",
       "        text-align: right;\n",
       "    }\n",
       "</style>\n",
       "<table border=\"1\" class=\"dataframe\">\n",
       "  <thead>\n",
       "    <tr style=\"text-align: right;\">\n",
       "      <th></th>\n",
       "      <th>overall</th>\n",
       "      <th>reviewTime</th>\n",
       "    </tr>\n",
       "  </thead>\n",
       "  <tbody>\n",
       "    <tr>\n",
       "      <th>0</th>\n",
       "      <td>5.0</td>\n",
       "      <td>02 28, 2014</td>\n",
       "    </tr>\n",
       "    <tr>\n",
       "      <th>1</th>\n",
       "      <td>5.0</td>\n",
       "      <td>03 16, 2013</td>\n",
       "    </tr>\n",
       "    <tr>\n",
       "      <th>2</th>\n",
       "      <td>5.0</td>\n",
       "      <td>08 28, 2013</td>\n",
       "    </tr>\n",
       "    <tr>\n",
       "      <th>3</th>\n",
       "      <td>5.0</td>\n",
       "      <td>02 14, 2014</td>\n",
       "    </tr>\n",
       "    <tr>\n",
       "      <th>4</th>\n",
       "      <td>5.0</td>\n",
       "      <td>02 21, 2014</td>\n",
       "    </tr>\n",
       "    <tr>\n",
       "      <th>...</th>\n",
       "      <td>...</td>\n",
       "      <td>...</td>\n",
       "    </tr>\n",
       "    <tr>\n",
       "      <th>10256</th>\n",
       "      <td>5.0</td>\n",
       "      <td>07 20, 2014</td>\n",
       "    </tr>\n",
       "    <tr>\n",
       "      <th>10257</th>\n",
       "      <td>5.0</td>\n",
       "      <td>07 2, 2014</td>\n",
       "    </tr>\n",
       "    <tr>\n",
       "      <th>10258</th>\n",
       "      <td>4.0</td>\n",
       "      <td>07 22, 2014</td>\n",
       "    </tr>\n",
       "    <tr>\n",
       "      <th>10259</th>\n",
       "      <td>4.0</td>\n",
       "      <td>07 1, 2014</td>\n",
       "    </tr>\n",
       "    <tr>\n",
       "      <th>10260</th>\n",
       "      <td>4.0</td>\n",
       "      <td>07 16, 2014</td>\n",
       "    </tr>\n",
       "  </tbody>\n",
       "</table>\n",
       "<p>10261 rows × 2 columns</p>\n",
       "</div>"
      ],
      "text/plain": [
       "       overall   reviewTime\n",
       "0          5.0  02 28, 2014\n",
       "1          5.0  03 16, 2013\n",
       "2          5.0  08 28, 2013\n",
       "3          5.0  02 14, 2014\n",
       "4          5.0  02 21, 2014\n",
       "...        ...          ...\n",
       "10256      5.0  07 20, 2014\n",
       "10257      5.0   07 2, 2014\n",
       "10258      4.0  07 22, 2014\n",
       "10259      4.0   07 1, 2014\n",
       "10260      4.0  07 16, 2014\n",
       "\n",
       "[10261 rows x 2 columns]"
      ]
     },
     "execution_count": 16,
     "metadata": {},
     "output_type": "execute_result"
    }
   ],
   "source": [
    "df_new"
   ]
  },
  {
   "cell_type": "code",
   "execution_count": 17,
   "metadata": {},
   "outputs": [],
   "source": [
    "# preprocessing"
   ]
  },
  {
   "cell_type": "code",
   "execution_count": 18,
   "metadata": {},
   "outputs": [
    {
     "name": "stderr",
     "output_type": "stream",
     "text": [
      "D:\\Anaconda3\\lib\\site-packages\\ipykernel_launcher.py:1: SettingWithCopyWarning: \n",
      "A value is trying to be set on a copy of a slice from a DataFrame.\n",
      "Try using .loc[row_indexer,col_indexer] = value instead\n",
      "\n",
      "See the caveats in the documentation: https://pandas.pydata.org/pandas-docs/stable/user_guide/indexing.html#returning-a-view-versus-a-copy\n",
      "  \"\"\"Entry point for launching an IPython kernel.\n"
     ]
    },
    {
     "data": {
      "text/html": [
       "<div>\n",
       "<style scoped>\n",
       "    .dataframe tbody tr th:only-of-type {\n",
       "        vertical-align: middle;\n",
       "    }\n",
       "\n",
       "    .dataframe tbody tr th {\n",
       "        vertical-align: top;\n",
       "    }\n",
       "\n",
       "    .dataframe thead th {\n",
       "        text-align: right;\n",
       "    }\n",
       "</style>\n",
       "<table border=\"1\" class=\"dataframe\">\n",
       "  <thead>\n",
       "    <tr style=\"text-align: right;\">\n",
       "      <th></th>\n",
       "      <th>overall</th>\n",
       "      <th>reviewTime</th>\n",
       "      <th>text</th>\n",
       "    </tr>\n",
       "  </thead>\n",
       "  <tbody>\n",
       "    <tr>\n",
       "      <th>0</th>\n",
       "      <td>5.0</td>\n",
       "      <td>02 28, 2014</td>\n",
       "      <td>Not much to write about here, but it does exac...</td>\n",
       "    </tr>\n",
       "    <tr>\n",
       "      <th>1</th>\n",
       "      <td>5.0</td>\n",
       "      <td>03 16, 2013</td>\n",
       "      <td>The product does exactly as it should and is q...</td>\n",
       "    </tr>\n",
       "    <tr>\n",
       "      <th>2</th>\n",
       "      <td>5.0</td>\n",
       "      <td>08 28, 2013</td>\n",
       "      <td>The primary job of this device is to block the...</td>\n",
       "    </tr>\n",
       "    <tr>\n",
       "      <th>3</th>\n",
       "      <td>5.0</td>\n",
       "      <td>02 14, 2014</td>\n",
       "      <td>Nice windscreen protects my MXL mic and preven...</td>\n",
       "    </tr>\n",
       "    <tr>\n",
       "      <th>4</th>\n",
       "      <td>5.0</td>\n",
       "      <td>02 21, 2014</td>\n",
       "      <td>This pop filter is great. It looks and perform...</td>\n",
       "    </tr>\n",
       "    <tr>\n",
       "      <th>...</th>\n",
       "      <td>...</td>\n",
       "      <td>...</td>\n",
       "      <td>...</td>\n",
       "    </tr>\n",
       "    <tr>\n",
       "      <th>10256</th>\n",
       "      <td>5.0</td>\n",
       "      <td>07 20, 2014</td>\n",
       "      <td>Great, just as expected.  Thank to all., Five ...</td>\n",
       "    </tr>\n",
       "    <tr>\n",
       "      <th>10257</th>\n",
       "      <td>5.0</td>\n",
       "      <td>07 2, 2014</td>\n",
       "      <td>I've been thinking about trying the Nanoweb st...</td>\n",
       "    </tr>\n",
       "    <tr>\n",
       "      <th>10258</th>\n",
       "      <td>4.0</td>\n",
       "      <td>07 22, 2014</td>\n",
       "      <td>I have tried coated strings in the past ( incl...</td>\n",
       "    </tr>\n",
       "    <tr>\n",
       "      <th>10259</th>\n",
       "      <td>4.0</td>\n",
       "      <td>07 1, 2014</td>\n",
       "      <td>Well, MADE by Elixir and DEVELOPED with Taylor...</td>\n",
       "    </tr>\n",
       "    <tr>\n",
       "      <th>10260</th>\n",
       "      <td>4.0</td>\n",
       "      <td>07 16, 2014</td>\n",
       "      <td>These strings are really quite good, but I wou...</td>\n",
       "    </tr>\n",
       "  </tbody>\n",
       "</table>\n",
       "<p>10261 rows × 3 columns</p>\n",
       "</div>"
      ],
      "text/plain": [
       "       overall   reviewTime                                               text\n",
       "0          5.0  02 28, 2014  Not much to write about here, but it does exac...\n",
       "1          5.0  03 16, 2013  The product does exactly as it should and is q...\n",
       "2          5.0  08 28, 2013  The primary job of this device is to block the...\n",
       "3          5.0  02 14, 2014  Nice windscreen protects my MXL mic and preven...\n",
       "4          5.0  02 21, 2014  This pop filter is great. It looks and perform...\n",
       "...        ...          ...                                                ...\n",
       "10256      5.0  07 20, 2014  Great, just as expected.  Thank to all., Five ...\n",
       "10257      5.0   07 2, 2014  I've been thinking about trying the Nanoweb st...\n",
       "10258      4.0  07 22, 2014  I have tried coated strings in the past ( incl...\n",
       "10259      4.0   07 1, 2014  Well, MADE by Elixir and DEVELOPED with Taylor...\n",
       "10260      4.0  07 16, 2014  These strings are really quite good, but I wou...\n",
       "\n",
       "[10261 rows x 3 columns]"
      ]
     },
     "execution_count": 18,
     "metadata": {},
     "output_type": "execute_result"
    }
   ],
   "source": [
    "df_new['text'] = df_js['reviewText'] + ', ' + df_js['summary']\n",
    "df_new"
   ]
  },
  {
   "cell_type": "code",
   "execution_count": 19,
   "metadata": {},
   "outputs": [
    {
     "data": {
      "text/plain": [
       "{1.0, 2.0, 3.0, 4.0, 5.0}"
      ]
     },
     "execution_count": 19,
     "metadata": {},
     "output_type": "execute_result"
    }
   ],
   "source": [
    "set(df_new['overall'])"
   ]
  },
  {
   "cell_type": "code",
   "execution_count": 20,
   "metadata": {},
   "outputs": [
    {
     "name": "stderr",
     "output_type": "stream",
     "text": [
      "D:\\Anaconda3\\lib\\site-packages\\ipykernel_launcher.py:1: SettingWithCopyWarning: \n",
      "A value is trying to be set on a copy of a slice from a DataFrame.\n",
      "Try using .loc[row_indexer,col_indexer] = value instead\n",
      "\n",
      "See the caveats in the documentation: https://pandas.pydata.org/pandas-docs/stable/user_guide/indexing.html#returning-a-view-versus-a-copy\n",
      "  \"\"\"Entry point for launching an IPython kernel.\n"
     ]
    }
   ],
   "source": [
    "df_new['reviewTime'] = pd.to_datetime(df_new['reviewTime'])"
   ]
  },
  {
   "cell_type": "code",
   "execution_count": 21,
   "metadata": {},
   "outputs": [
    {
     "name": "stdout",
     "output_type": "stream",
     "text": [
      "<class 'pandas.core.frame.DataFrame'>\n",
      "RangeIndex: 10261 entries, 0 to 10260\n",
      "Data columns (total 3 columns):\n",
      " #   Column      Non-Null Count  Dtype         \n",
      "---  ------      --------------  -----         \n",
      " 0   overall     10261 non-null  float64       \n",
      " 1   reviewTime  10261 non-null  datetime64[ns]\n",
      " 2   text        10261 non-null  object        \n",
      "dtypes: datetime64[ns](1), float64(1), object(1)\n",
      "memory usage: 240.6+ KB\n"
     ]
    }
   ],
   "source": [
    "df_new.info()"
   ]
  },
  {
   "cell_type": "code",
   "execution_count": 22,
   "metadata": {},
   "outputs": [
    {
     "data": {
      "text/html": [
       "<div>\n",
       "<style scoped>\n",
       "    .dataframe tbody tr th:only-of-type {\n",
       "        vertical-align: middle;\n",
       "    }\n",
       "\n",
       "    .dataframe tbody tr th {\n",
       "        vertical-align: top;\n",
       "    }\n",
       "\n",
       "    .dataframe thead th {\n",
       "        text-align: right;\n",
       "    }\n",
       "</style>\n",
       "<table border=\"1\" class=\"dataframe\">\n",
       "  <thead>\n",
       "    <tr style=\"text-align: right;\">\n",
       "      <th></th>\n",
       "      <th>overall</th>\n",
       "      <th>reviewTime</th>\n",
       "      <th>text</th>\n",
       "    </tr>\n",
       "  </thead>\n",
       "  <tbody>\n",
       "    <tr>\n",
       "      <th>0</th>\n",
       "      <td>5.0</td>\n",
       "      <td>2014-02-28</td>\n",
       "      <td>Not much to write about here, but it does exac...</td>\n",
       "    </tr>\n",
       "    <tr>\n",
       "      <th>1</th>\n",
       "      <td>5.0</td>\n",
       "      <td>2013-03-16</td>\n",
       "      <td>The product does exactly as it should and is q...</td>\n",
       "    </tr>\n",
       "    <tr>\n",
       "      <th>2</th>\n",
       "      <td>5.0</td>\n",
       "      <td>2013-08-28</td>\n",
       "      <td>The primary job of this device is to block the...</td>\n",
       "    </tr>\n",
       "    <tr>\n",
       "      <th>3</th>\n",
       "      <td>5.0</td>\n",
       "      <td>2014-02-14</td>\n",
       "      <td>Nice windscreen protects my MXL mic and preven...</td>\n",
       "    </tr>\n",
       "    <tr>\n",
       "      <th>4</th>\n",
       "      <td>5.0</td>\n",
       "      <td>2014-02-21</td>\n",
       "      <td>This pop filter is great. It looks and perform...</td>\n",
       "    </tr>\n",
       "  </tbody>\n",
       "</table>\n",
       "</div>"
      ],
      "text/plain": [
       "   overall reviewTime                                               text\n",
       "0      5.0 2014-02-28  Not much to write about here, but it does exac...\n",
       "1      5.0 2013-03-16  The product does exactly as it should and is q...\n",
       "2      5.0 2013-08-28  The primary job of this device is to block the...\n",
       "3      5.0 2014-02-14  Nice windscreen protects my MXL mic and preven...\n",
       "4      5.0 2014-02-21  This pop filter is great. It looks and perform..."
      ]
     },
     "execution_count": 22,
     "metadata": {},
     "output_type": "execute_result"
    }
   ],
   "source": [
    "df_new.head(5)"
   ]
  },
  {
   "cell_type": "code",
   "execution_count": 23,
   "metadata": {},
   "outputs": [],
   "source": [
    "# Q1. Process one collection of data and summarize information from several fields."
   ]
  },
  {
   "cell_type": "code",
   "execution_count": 24,
   "metadata": {},
   "outputs": [],
   "source": [
    "# This is like the example program for analyzing twitter hashtags,\n",
    "# but must access different and more fields than in those examples."
   ]
  },
  {
   "cell_type": "code",
   "execution_count": 25,
   "metadata": {},
   "outputs": [
    {
     "data": {
      "text/plain": [
       "{2004, 2005, 2006, 2007, 2008, 2009, 2010, 2011, 2012, 2013, 2014}"
      ]
     },
     "execution_count": 25,
     "metadata": {},
     "output_type": "execute_result"
    }
   ],
   "source": [
    "df_q1 = df_new[['overall', 'reviewTime', 'text']]\n",
    "df_q1['reviewTime'] = df_q1['reviewTime'].dt.year\n",
    "set(df_q1['reviewTime'])"
   ]
  },
  {
   "cell_type": "code",
   "execution_count": 26,
   "metadata": {},
   "outputs": [],
   "source": [
    "\n",
    "def vect(x, y):\n",
    "    stop_words = stopwords.words('english') \n",
    "    no_features = 1000\n",
    "    \n",
    "    tf_vectorizer = CountVectorizer(max_df = 0.98, min_df = 3, max_features = no_features, \n",
    "                                    stop_words = stop_words, ngram_range = (1, 3))\n",
    "    tf = tf_vectorizer.fit_transform(x['text'])\n",
    "    tf_feature_names = tf_vectorizer.get_feature_names()\n",
    "    \n",
    "    return sorted(list(tf_vectorizer.vocabulary_.items()), reverse = True)[:y]\n"
   ]
  },
  {
   "cell_type": "code",
   "execution_count": 27,
   "metadata": {},
   "outputs": [],
   "source": [
    "# High frequency words of each year for 1 star"
   ]
  },
  {
   "cell_type": "code",
   "execution_count": 28,
   "metadata": {},
   "outputs": [
    {
     "name": "stdout",
     "output_type": "stream",
     "text": [
      "there are none or only few reviews in year: 2004\n",
      "=========================================================================================\n",
      "there are none or only few reviews in year: 2005\n",
      "=========================================================================================\n",
      "there are none or only few reviews in year: 2006\n",
      "=========================================================================================\n",
      "there are none or only few reviews in year: 2007\n",
      "=========================================================================================\n",
      "there are none or only few reviews in year: 2008\n",
      "=========================================================================================\n",
      "there are none or only few reviews in year: 2009\n",
      "=========================================================================================\n",
      "here are the top 4 words been used in year: 2010\n",
      "[('one', 3), ('may', 2), ('good', 1), ('buy', 0)]\n",
      "=========================================================================================\n",
      "here are the top 25 words been used in year: 2011\n",
      "[('would', 31), ('work', 30), ('weight', 29), ('way', 28), ('use', 27), ('top', 26), ('stand', 25), ('really', 24), ('purchased', 23), ('one', 22), ('never', 21), ('much', 20), ('long', 19), ('like', 18), ('hold', 17), ('guitars', 16), ('guitar', 15), ('great', 14), ('good', 13), ('going', 12), ('go', 11), ('get', 10), ('even', 9), ('enough', 8), ('could', 7)]\n",
      "=========================================================================================\n",
      "here are the top 25 words been used in year: 2012\n",
      "[('zero', 282), ('yet', 281), ('year', 280), ('wrong', 279), ('would', 278), ('worst', 277), ('works', 276), ('worked', 275), ('work', 274), ('without', 273), ('whole', 272), ('went', 271), ('well', 270), ('weeks', 269), ('way', 268), ('watt', 267), ('waste', 266), ('want', 265), ('volume', 264), ('using', 263), ('useless', 262), ('used', 261), ('use', 260), ('usb', 259), ('us', 258)]\n",
      "=========================================================================================\n",
      "here are the top 25 words been used in year: 2013\n",
      "[('years', 272), ('would', 271), ('worth', 270), ('worst', 269), ('works', 268), ('working', 267), ('work', 266), ('without', 265), ('went', 264), ('well', 263), ('weeks', 262), ('week', 261), ('wear', 260), ('way', 259), ('want', 258), ('using', 257), ('useless', 256), ('used', 255), ('use', 254), ('update', 253), ('unless', 252), ('unit', 251), ('uncomfortable', 250), ('two', 249), ('tuned', 248)]\n",
      "=========================================================================================\n",
      "here are the top 25 words been used in year: 2014\n",
      "[('years', 223), ('would', 222), ('worth', 221), ('works', 220), ('working', 219), ('work', 218), ('without', 217), ('whether', 216), ('went', 215), ('well', 214), ('way', 213), ('wanted like', 212), ('wanted', 211), ('want', 210), ('using', 209), ('useless', 208), ('used', 207), ('use', 206), ('update', 205), ('unless', 204), ('unit', 203), ('two', 202), ('trying', 201), ('try', 200), ('tried', 199)]\n",
      "=========================================================================================\n"
     ]
    }
   ],
   "source": [
    "df_s1 = df_q1[df_q1.overall == 1.0]\n",
    "for i in list(set(df_q1['reviewTime'])):\n",
    "    \n",
    "    x = df_s1[df_s1.reviewTime == i]\n",
    "    \n",
    "    if len(x) <= 3 :\n",
    "        print('there are none or only few reviews in year:', i)\n",
    "    else:\n",
    "        lst_s = vect(x, 25)\n",
    "        print('here are the top', len(lst_s) ,'words been used in year:', i)\n",
    "        print(lst_s)\n",
    "    print('=========================================================================================')\n",
    "    "
   ]
  },
  {
   "cell_type": "code",
   "execution_count": null,
   "metadata": {},
   "outputs": [],
   "source": []
  },
  {
   "cell_type": "code",
   "execution_count": 29,
   "metadata": {},
   "outputs": [],
   "source": [
    "# High frequency words of each year for 2 star"
   ]
  },
  {
   "cell_type": "code",
   "execution_count": 30,
   "metadata": {},
   "outputs": [
    {
     "name": "stdout",
     "output_type": "stream",
     "text": [
      "there are none or only few reviews in year: 2004\n",
      "=========================================================================================\n",
      "there are none or only few reviews in year: 2005\n",
      "=========================================================================================\n",
      "there are none or only few reviews in year: 2006\n",
      "=========================================================================================\n",
      "there are none or only few reviews in year: 2007\n",
      "=========================================================================================\n",
      "there are none or only few reviews in year: 2008\n",
      "=========================================================================================\n",
      "there are none or only few reviews in year: 2009\n",
      "=========================================================================================\n",
      "here are the top 11 words been used in year: 2010\n",
      "[('use', 10), ('sound', 9), ('purchased', 8), ('product', 7), ('price', 6), ('one', 5), ('need', 4), ('mic', 3), ('get', 2), ('first', 1), ('buy', 0)]\n",
      "=========================================================================================\n",
      "here are the top 25 words been used in year: 2011\n",
      "[('would better', 150), ('would', 149), ('worth', 148), ('works', 147), ('work', 146), ('without', 145), ('wise', 144), ('well', 143), ('way', 142), ('want', 141), ('using', 140), ('used', 139), ('use', 138), ('two', 137), ('turn', 136), ('try', 135), ('tried', 134), ('tone', 133), ('tiny', 132), ('time', 131), ('thought', 130), ('think', 129), ('things', 128), ('thing', 127), ('thin', 126)]\n",
      "=========================================================================================\n",
      "here are the top 25 words been used in year: 2012\n",
      "[('years', 147), ('would', 146), ('worth', 145), ('works', 144), ('worked', 143), ('work well', 142), ('work', 141), ('without', 140), ('well', 139), ('way', 138), ('want', 137), ('used', 136), ('use', 135), ('unit', 134), ('two', 133), ('turn', 132), ('tuner', 131), ('try', 130), ('tone', 129), ('time', 128), ('though', 127), ('think', 126), ('thing', 125), ('terrible', 124), ('take', 123)]\n",
      "=========================================================================================\n",
      "here are the top 25 words been used in year: 2013\n",
      "[('yeti', 457), ('yet', 456), ('years', 455), ('yamaha', 454), ('xlr', 453), ('wrong', 452), ('wound', 451), ('would recommend', 450), ('would probably', 449), ('would make', 448), ('would give', 447), ('would', 446), ('worth money', 445), ('worth', 444), ('works', 443), ('working', 442), ('worked', 441), ('work', 440), ('without', 439), ('within', 438), ('wish', 437), ('wire', 436), ('whatever', 435), ('well made', 434), ('well', 433)]\n",
      "=========================================================================================\n",
      "here are the top 25 words been used in year: 2014\n",
      "[('yet', 311), ('years', 310), ('year', 309), ('would', 308), ('worth', 307), ('works fine', 306), ('works', 305), ('working', 304), ('work well', 303), ('work', 302), ('without', 301), ('well', 300), ('weeks', 299), ('week', 298), ('ways', 297), ('way', 296), ('waves capo', 295), ('waves', 294), ('want', 293), ('volume', 292), ('version', 291), ('using', 290), ('user', 289), ('used', 288), ('use', 287)]\n",
      "=========================================================================================\n"
     ]
    }
   ],
   "source": [
    "df_s2 = df_q1[df_q1.overall == 2.0]\n",
    "for i in list(set(df_q1['reviewTime'])):\n",
    "    \n",
    "    x = df_s2[df_s2.reviewTime == i]\n",
    "    \n",
    "    if len(x) <= 3 :\n",
    "        print('there are none or only few reviews in year:', i)\n",
    "    else:\n",
    "        lst_s = vect(x, 25)\n",
    "        print('here are the top', len(lst_s) ,'words been used in year:', i)\n",
    "        print(lst_s)\n",
    "    print('=========================================================================================')"
   ]
  },
  {
   "cell_type": "code",
   "execution_count": 31,
   "metadata": {},
   "outputs": [],
   "source": [
    "# High frequency words of each year for 3 star"
   ]
  },
  {
   "cell_type": "code",
   "execution_count": 32,
   "metadata": {},
   "outputs": [
    {
     "name": "stdout",
     "output_type": "stream",
     "text": [
      "there are none or only few reviews in year: 2004\n",
      "=========================================================================================\n",
      "there are none or only few reviews in year: 2005\n",
      "=========================================================================================\n",
      "there are none or only few reviews in year: 2006\n",
      "=========================================================================================\n",
      "there are none or only few reviews in year: 2007\n",
      "=========================================================================================\n",
      "here are the top 8 words been used in year: 2008\n",
      "[('well', 7), ('sound', 6), ('really', 5), ('pedal', 4), ('one', 3), ('need', 2), ('like', 1), ('good', 0)]\n",
      "=========================================================================================\n",
      "here are the top 23 words been used in year: 2009\n",
      "[('would', 22), ('use', 21), ('turn', 20), ('though', 19), ('thing', 18), ('stick', 17), ('sound', 16), ('small', 15), ('place', 14), ('one', 13), ('old', 12), ('nice', 11), ('need', 10), ('make', 9), ('great', 8), ('good', 7), ('get', 6), ('far', 5), ('different', 4), ('cool', 3), ('better', 2), ('back', 1), ('also', 0)]\n",
      "=========================================================================================\n",
      "here are the top 25 words been used in year: 2010\n",
      "[('years', 70), ('wrong', 69), ('would', 68), ('works', 67), ('well', 66), ('way', 65), ('using', 64), ('used', 63), ('use', 62), ('two', 61), ('try', 60), ('tried', 59), ('time', 58), ('though', 57), ('sure', 56), ('strings', 55), ('string', 54), ('sounds', 53), ('sound', 52), ('seems', 51), ('said', 50), ('reviews', 49), ('recommend', 48), ('really', 47), ('product', 46)]\n",
      "=========================================================================================\n",
      "here are the top 25 words been used in year: 2011\n",
      "[('yet', 599), ('years', 598), ('year', 597), ('xlr', 596), ('would recommend', 595), ('would', 594), ('worth', 593), ('works well', 592), ('works pretty', 591), ('works fine', 590), ('works', 589), ('worked', 588), ('work well', 587), ('work', 586), ('wood', 585), ('without', 584), ('within', 583), ('wish', 582), ('whatever', 581), ('went', 580), ('well', 579), ('weeks', 578), ('way', 577), ('waves', 576), ('watt', 575)]\n",
      "=========================================================================================\n",
      "here are the top 25 words been used in year: 2012\n",
      "[('zero', 738), ('yet', 737), ('yes', 736), ('years ago', 735), ('years', 734), ('year', 733), ('xlr', 732), ('wrong', 731), ('would recommend', 730), ('would buy', 729), ('would', 728), ('worth money', 727), ('worth', 726), ('worst', 725), ('worse', 724), ('worried', 723), ('works well', 722), ('works great', 721), ('works', 720), ('working', 719), ('worked well', 718), ('worked', 717), ('work well', 716), ('work', 715), ('wonder', 714)]\n",
      "=========================================================================================\n",
      "here are the top 25 words been used in year: 2013\n",
      "[('yet', 999), ('yes', 998), ('years ago', 997), ('years', 996), ('year', 995), ('wrong', 994), ('writing', 993), ('wound', 992), ('would work', 991), ('would use', 990), ('would say', 989), ('would recommend', 988), ('would never', 987), ('would like', 986), ('would great', 985), ('would give', 984), ('would buy', 983), ('would', 982), ('worth money', 981), ('worth', 980), ('worse', 979), ('worry', 978), ('world', 977), ('works well', 976), ('works okay', 975)]\n",
      "=========================================================================================\n",
      "here are the top 25 words been used in year: 2014\n",
      "[('yet', 690), ('yes', 689), ('years', 688), ('year', 687), ('wrong', 686), ('write', 685), ('would work', 684), ('would recommend', 683), ('would', 682), ('worth', 681), ('worn', 680), ('works well', 679), ('works really', 678), ('works', 677), ('working', 676), ('worked', 675), ('work well', 674), ('work fine', 673), ('work', 672), ('wood', 671), ('without', 670), ('wish', 669), ('winder', 668), ('whole', 667), ('went', 666)]\n",
      "=========================================================================================\n"
     ]
    }
   ],
   "source": [
    "df_s3 = df_q1[df_q1.overall == 3.0]\n",
    "for i in list(set(df_q1['reviewTime'])):\n",
    "    \n",
    "    x = df_s3[df_s3.reviewTime == i]\n",
    "    \n",
    "    if len(x) <= 3 :\n",
    "        print('there are none or only few reviews in year:', i)\n",
    "    else:\n",
    "        lst_s = vect(x, 25)\n",
    "        print('here are the top', len(lst_s) ,'words been used in year:', i)\n",
    "        print(lst_s)\n",
    "    print('=========================================================================================')"
   ]
  },
  {
   "cell_type": "code",
   "execution_count": 33,
   "metadata": {},
   "outputs": [],
   "source": [
    "# High frequency words of each year for 4 star"
   ]
  },
  {
   "cell_type": "code",
   "execution_count": 34,
   "metadata": {},
   "outputs": [
    {
     "name": "stdout",
     "output_type": "stream",
     "text": [
      "there are none or only few reviews in year: 2004\n",
      "=========================================================================================\n",
      "there are none or only few reviews in year: 2005\n",
      "=========================================================================================\n",
      "there are none or only few reviews in year: 2006\n",
      "=========================================================================================\n",
      "here are the top 10 words been used in year: 2007\n",
      "[('would', 9), ('use', 8), ('one', 7), ('like', 6), ('great', 5), ('good', 4), ('go', 3), ('get', 2), ('even', 1), ('controls', 0)]\n",
      "=========================================================================================\n",
      "here are the top 25 words been used in year: 2008\n",
      "[('would', 126), ('works well', 125), ('works', 124), ('without', 123), ('well', 122), ('wanted', 121), ('want', 120), ('vocals', 119), ('using', 118), ('uses', 117), ('useful', 116), ('used', 115), ('use', 114), ('type', 113), ('two', 112), ('try', 111), ('top', 110), ('time', 109), ('things', 108), ('thing', 107), ('tell', 106), ('switch', 105), ('studio', 104), ('string', 103), ('still', 102)]\n",
      "=========================================================================================\n",
      "here are the top 25 words been used in year: 2009\n",
      "[('yet', 205), ('would', 204), ('works', 203), ('work', 202), ('without', 201), ('wide', 200), ('well made', 199), ('well', 198), ('way', 197), ('want', 196), ('using', 195), ('used', 194), ('use sound', 193), ('use', 192), ('usb', 191), ('update', 190), ('two', 189), ('try', 188), ('tried', 187), ('tone', 186), ('time', 185), ('thus', 184), ('though', 183), ('think', 182), ('thick', 181)]\n",
      "=========================================================================================\n",
      "here are the top 25 words been used in year: 2010\n",
      "[('yet', 487), ('years ago', 486), ('years', 485), ('year', 484), ('wrong', 483), ('would recommend', 482), ('would', 481), ('worth', 480), ('works great', 479), ('works', 478), ('working', 477), ('work', 476), ('without', 475), ('within', 474), ('wish', 473), ('whatever', 472), ('went', 471), ('well made', 470), ('well', 469), ('weight', 468), ('wear', 467), ('way', 466), ('wanted', 465), ('want', 464), ('wah', 463)]\n",
      "=========================================================================================\n",
      "here are the top 25 words been used in year: 2011\n",
      "[('yet', 999), ('yes', 998), ('years ago', 997), ('years', 996), ('year', 995), ('yamaha', 994), ('wrong', 993), ('wow', 992), ('wound', 991), ('would work', 990), ('would suggest', 989), ('would say', 988), ('would recommend', 987), ('would', 986), ('worth', 985), ('worse', 984), ('worry', 983), ('world', 982), ('works well', 981), ('works great', 980), ('works advertised', 979), ('works', 978), ('working', 977), ('worked', 976), ('work well', 975)]\n",
      "=========================================================================================\n",
      "here are the top 25 words been used in year: 2012\n",
      "[('youtube', 999), ('yet', 998), ('yes', 997), ('years ago', 996), ('years', 995), ('year', 994), ('xlr', 993), ('wrong', 992), ('would recommend', 991), ('would nice', 990), ('would', 989), ('worth', 988), ('works well', 987), ('works great', 986), ('works fine', 985), ('works', 984), ('working', 983), ('worked fine', 982), ('worked', 981), ('work well', 980), ('work', 979), ('wood', 978), ('without', 977), ('within', 976), ('wish', 975)]\n",
      "=========================================================================================\n",
      "here are the top 25 words been used in year: 2013\n",
      "[('yet', 999), ('yes', 998), ('years ago', 997), ('years', 996), ('year', 995), ('yamaha', 994), ('xlr', 993), ('wrong', 992), ('writing', 991), ('would recommend', 990), ('would buy', 989), ('would', 988), ('worth', 987), ('worry', 986), ('works well', 985), ('works great', 984), ('works fine', 983), ('works', 982), ('working', 981), ('worked', 980), ('work well', 979), ('work fine', 978), ('work', 977), ('wood', 976), ('wont', 975)]\n",
      "=========================================================================================\n",
      "here are the top 25 words been used in year: 2014\n",
      "[('zipper', 999), ('youtube', 998), ('yet', 997), ('yes', 996), ('years', 995), ('year', 994), ('xlr', 993), ('wrong', 992), ('would recommend', 991), ('would nice', 990), ('would expect', 989), ('would buy', 988), ('would', 987), ('worth', 986), ('worry', 985), ('works well', 984), ('works like', 983), ('works great', 982), ('works good', 981), ('works fine', 980), ('works advertised', 979), ('works', 978), ('working', 977), ('worked', 976), ('work well', 975)]\n",
      "=========================================================================================\n"
     ]
    }
   ],
   "source": [
    "df_s4 = df_q1[df_q1.overall == 4.0]\n",
    "for i in list(set(df_q1['reviewTime'])):\n",
    "    \n",
    "    x = df_s4[df_s4.reviewTime == i]\n",
    "    \n",
    "    if len(x) <= 3 :\n",
    "        print('there are none or only few reviews in year:', i)\n",
    "    else:\n",
    "        lst_s = vect(x, 25)\n",
    "        print('here are the top', len(lst_s) ,'words been used in year:', i)\n",
    "        print(lst_s)\n",
    "    print('=========================================================================================')"
   ]
  },
  {
   "cell_type": "code",
   "execution_count": 35,
   "metadata": {},
   "outputs": [],
   "source": [
    "# High frequency words of each year for 5 star"
   ]
  },
  {
   "cell_type": "code",
   "execution_count": 36,
   "metadata": {},
   "outputs": [
    {
     "name": "stdout",
     "output_type": "stream",
     "text": [
      "here are the top 16 words been used in year: 2004\n",
      "[('using', 15), ('use', 14), ('tension', 13), ('sound', 12), ('set', 11), ('right', 10), ('quickly', 9), ('position', 8), ('playing', 7), ('perfect', 6), ('model', 5), ('lever', 4), ('get', 3), ('either', 2), ('drum', 1), ('bass', 0)]\n",
      "=========================================================================================\n",
      "there are none or only few reviews in year: 2005\n",
      "=========================================================================================\n",
      "here are the top 20 words been used in year: 2006\n",
      "[('without', 19), ('well', 18), ('way', 17), ('used', 16), ('use', 15), ('tried', 14), ('still', 13), ('sound', 12), ('set', 11), ('one', 10), ('need', 9), ('low', 8), ('like', 7), ('instrument', 6), ('however', 5), ('guitar', 4), ('good', 3), ('get', 2), ('built', 1), ('available', 0)]\n",
      "=========================================================================================\n",
      "here are the top 25 words been used in year: 2007\n",
      "[('zoom', 106), ('years ago', 105), ('years', 104), ('would', 103), ('works great', 102), ('works', 101), ('without', 100), ('well', 99), ('want', 98), ('using', 97), ('used', 96), ('use', 95), ('unlike', 94), ('two', 93), ('tune', 92), ('time', 91), ('three', 90), ('thought', 89), ('though', 88), ('thing', 87), ('taylor', 86), ('strings', 85), ('string', 84), ('standard', 83), ('stand', 82)]\n",
      "=========================================================================================\n",
      "here are the top 25 words been used in year: 2008\n",
      "[('years ago', 170), ('years', 169), ('would', 168), ('worth', 167), ('works', 166), ('work', 165), ('without', 164), ('wish', 163), ('went', 162), ('well constructed', 161), ('well', 160), ('way', 159), ('want', 158), ('version', 157), ('using', 156), ('used', 155), ('use', 154), ('tuner', 153), ('tune', 152), ('try', 151), ('tried', 150), ('took', 149), ('tone', 148), ('times', 147), ('time', 146)]\n",
      "=========================================================================================\n",
      "here are the top 25 words been used in year: 2009\n",
      "[('yet', 397), ('years', 396), ('xlr', 395), ('would', 394), ('worth', 393), ('worry', 392), ('world', 391), ('works perfectly', 390), ('works great', 389), ('works', 388), ('working', 387), ('worked', 386), ('work well', 385), ('work', 384), ('wood', 383), ('without', 382), ('whatever', 381), ('well made', 380), ('well', 379), ('way', 378), ('wanted', 377), ('want', 376), ('volume', 375), ('vocals', 374), ('value', 373)]\n",
      "=========================================================================================\n",
      "here are the top 25 words been used in year: 2010\n",
      "[('yet', 999), ('yes', 998), ('years ago', 997), ('years', 996), ('year', 995), ('yamaha', 994), ('xlr', 993), ('wrong', 992), ('write', 991), ('wow', 990), ('would recommend', 989), ('would like', 988), ('would also', 987), ('would', 986), ('worth price', 985), ('worth money', 984), ('worth', 983), ('worry', 982), ('world', 981), ('works well', 980), ('works perfectly', 979), ('works great', 978), ('works fine', 977), ('works exactly', 976), ('works advertised', 975)]\n",
      "=========================================================================================\n",
      "here are the top 25 words been used in year: 2011\n",
      "[('youtube', 999), ('yet', 998), ('yes', 997), ('years', 996), ('year', 995), ('xlr', 994), ('wrong', 993), ('wow', 992), ('wound', 991), ('would recommend', 990), ('would', 989), ('worth', 988), ('worry', 987), ('works well', 986), ('works great', 985), ('works fine', 984), ('works', 983), ('worked', 982), ('work well', 981), ('work', 980), ('wood', 979), ('wonderful', 978), ('without', 977), ('wish', 976), ('wire', 975)]\n",
      "=========================================================================================\n",
      "here are the top 25 words been used in year: 2012\n",
      "[('youtube', 999), ('yet', 998), ('yes', 997), ('years ago', 996), ('years', 995), ('year', 994), ('xlr', 993), ('wrong', 992), ('wow', 991), ('would recommend', 990), ('would', 989), ('worth', 988), ('worry', 987), ('works well', 986), ('works great', 985), ('works fine', 984), ('works', 983), ('working', 982), ('worked', 981), ('work well', 980), ('work great', 979), ('work', 978), ('word', 977), ('wood', 976), ('wonderful', 975)]\n",
      "=========================================================================================\n",
      "here are the top 25 words been used in year: 2013\n",
      "[('zero', 999), ('youtube', 998), ('yet', 997), ('yes', 996), ('years ago', 995), ('years', 994), ('year', 993), ('yamaha', 992), ('xlr', 991), ('wrong', 990), ('wow', 989), ('would recommend', 988), ('would', 987), ('worth', 986), ('worry', 985), ('works well', 984), ('works like', 983), ('works great', 982), ('works fine', 981), ('works', 980), ('working', 979), ('worked', 978), ('work well', 977), ('work great', 976), ('work', 975)]\n",
      "=========================================================================================\n",
      "here are the top 25 words been used in year: 2014\n",
      "[('youtube', 999), ('yet', 998), ('yes', 997), ('years', 996), ('year', 995), ('yamaha', 994), ('xlr', 993), ('wrong', 992), ('wow', 991), ('wound', 990), ('would recommend', 989), ('would', 988), ('worth', 987), ('worry', 986), ('world', 985), ('works well', 984), ('works perfectly', 983), ('works great', 982), ('works fine', 981), ('works', 980), ('working', 979), ('worked', 978), ('work well', 977), ('work great', 976), ('work', 975)]\n",
      "=========================================================================================\n"
     ]
    }
   ],
   "source": [
    "df_s5 = df_q1[df_q1.overall == 5.0]\n",
    "for i in list(set(df_q1['reviewTime'])):\n",
    "    \n",
    "    x = df_s5[df_s5.reviewTime == i]\n",
    "    \n",
    "    if len(x) <= 3 :\n",
    "        print('there are none or only few reviews in year:', i)\n",
    "    else:\n",
    "        lst_s = vect(x, 25)\n",
    "        print('here are the top', len(lst_s) ,'words been used in year:', i)\n",
    "        print(lst_s)\n",
    "    print('=========================================================================================')"
   ]
  },
  {
   "cell_type": "markdown",
   "metadata": {},
   "source": [
    "----"
   ]
  },
  {
   "cell_type": "code",
   "execution_count": 37,
   "metadata": {},
   "outputs": [],
   "source": [
    "# Q2. Process one collection of data and separate it into different categories and provided summary\n",
    "# statistics on those categories. "
   ]
  },
  {
   "cell_type": "code",
   "execution_count": 38,
   "metadata": {},
   "outputs": [],
   "source": [
    "# o\tFor example, bin the tweets by day or by hour and report on the number of tweets per day or hour."
   ]
  },
  {
   "cell_type": "code",
   "execution_count": 39,
   "metadata": {},
   "outputs": [],
   "source": [
    "df_q2 = df_new[['overall', 'reviewTime']]\n",
    "# df_q2.head()"
   ]
  },
  {
   "cell_type": "code",
   "execution_count": 40,
   "metadata": {},
   "outputs": [
    {
     "data": {
      "text/html": [
       "<div>\n",
       "<style scoped>\n",
       "    .dataframe tbody tr th:only-of-type {\n",
       "        vertical-align: middle;\n",
       "    }\n",
       "\n",
       "    .dataframe tbody tr th {\n",
       "        vertical-align: top;\n",
       "    }\n",
       "\n",
       "    .dataframe thead th {\n",
       "        text-align: right;\n",
       "    }\n",
       "</style>\n",
       "<table border=\"1\" class=\"dataframe\">\n",
       "  <thead>\n",
       "    <tr style=\"text-align: right;\">\n",
       "      <th></th>\n",
       "      <th>overall</th>\n",
       "      <th>year</th>\n",
       "    </tr>\n",
       "  </thead>\n",
       "  <tbody>\n",
       "    <tr>\n",
       "      <th>0</th>\n",
       "      <td>5.0</td>\n",
       "      <td>2014</td>\n",
       "    </tr>\n",
       "    <tr>\n",
       "      <th>1</th>\n",
       "      <td>5.0</td>\n",
       "      <td>2013</td>\n",
       "    </tr>\n",
       "    <tr>\n",
       "      <th>2</th>\n",
       "      <td>5.0</td>\n",
       "      <td>2013</td>\n",
       "    </tr>\n",
       "    <tr>\n",
       "      <th>3</th>\n",
       "      <td>5.0</td>\n",
       "      <td>2014</td>\n",
       "    </tr>\n",
       "    <tr>\n",
       "      <th>4</th>\n",
       "      <td>5.0</td>\n",
       "      <td>2014</td>\n",
       "    </tr>\n",
       "  </tbody>\n",
       "</table>\n",
       "</div>"
      ],
      "text/plain": [
       "   overall  year\n",
       "0      5.0  2014\n",
       "1      5.0  2013\n",
       "2      5.0  2013\n",
       "3      5.0  2014\n",
       "4      5.0  2014"
      ]
     },
     "execution_count": 40,
     "metadata": {},
     "output_type": "execute_result"
    }
   ],
   "source": [
    "# explore the distribution of overall(stars of each review) in each year\n",
    "df_year = df_q2[['overall']]\n",
    "df_year['year'] = df_q2['reviewTime'].dt.year\n",
    "df_year.head()"
   ]
  },
  {
   "cell_type": "code",
   "execution_count": 41,
   "metadata": {},
   "outputs": [],
   "source": [
    "test = df_year\n",
    "test['overall'] = test['overall'].astype('object')"
   ]
  },
  {
   "cell_type": "code",
   "execution_count": 42,
   "metadata": {},
   "outputs": [],
   "source": [
    "test2 = pd.pivot_table(test, index = ['year'], columns = ['overall'], aggfunc = [len])"
   ]
  },
  {
   "cell_type": "code",
   "execution_count": 43,
   "metadata": {},
   "outputs": [
    {
     "data": {
      "text/html": [
       "<div>\n",
       "<style scoped>\n",
       "    .dataframe tbody tr th:only-of-type {\n",
       "        vertical-align: middle;\n",
       "    }\n",
       "\n",
       "    .dataframe tbody tr th {\n",
       "        vertical-align: top;\n",
       "    }\n",
       "\n",
       "    .dataframe thead th {\n",
       "        text-align: right;\n",
       "    }\n",
       "</style>\n",
       "<table border=\"1\" class=\"dataframe\">\n",
       "  <thead>\n",
       "    <tr style=\"text-align: right;\">\n",
       "      <th>overall</th>\n",
       "      <th>1.0</th>\n",
       "      <th>2.0</th>\n",
       "      <th>3.0</th>\n",
       "      <th>4.0</th>\n",
       "      <th>5.0</th>\n",
       "    </tr>\n",
       "    <tr>\n",
       "      <th>year</th>\n",
       "      <th></th>\n",
       "      <th></th>\n",
       "      <th></th>\n",
       "      <th></th>\n",
       "      <th></th>\n",
       "    </tr>\n",
       "  </thead>\n",
       "  <tbody>\n",
       "    <tr>\n",
       "      <th>2004</th>\n",
       "      <td>0.0</td>\n",
       "      <td>0.0</td>\n",
       "      <td>0.0</td>\n",
       "      <td>1.0</td>\n",
       "      <td>6.0</td>\n",
       "    </tr>\n",
       "    <tr>\n",
       "      <th>2005</th>\n",
       "      <td>0.0</td>\n",
       "      <td>0.0</td>\n",
       "      <td>0.0</td>\n",
       "      <td>1.0</td>\n",
       "      <td>3.0</td>\n",
       "    </tr>\n",
       "    <tr>\n",
       "      <th>2006</th>\n",
       "      <td>1.0</td>\n",
       "      <td>0.0</td>\n",
       "      <td>1.0</td>\n",
       "      <td>2.0</td>\n",
       "      <td>6.0</td>\n",
       "    </tr>\n",
       "    <tr>\n",
       "      <th>2007</th>\n",
       "      <td>0.0</td>\n",
       "      <td>1.0</td>\n",
       "      <td>0.0</td>\n",
       "      <td>5.0</td>\n",
       "      <td>16.0</td>\n",
       "    </tr>\n",
       "    <tr>\n",
       "      <th>2008</th>\n",
       "      <td>0.0</td>\n",
       "      <td>2.0</td>\n",
       "      <td>7.0</td>\n",
       "      <td>18.0</td>\n",
       "      <td>36.0</td>\n",
       "    </tr>\n",
       "    <tr>\n",
       "      <th>2009</th>\n",
       "      <td>3.0</td>\n",
       "      <td>2.0</td>\n",
       "      <td>8.0</td>\n",
       "      <td>30.0</td>\n",
       "      <td>85.0</td>\n",
       "    </tr>\n",
       "    <tr>\n",
       "      <th>2010</th>\n",
       "      <td>7.0</td>\n",
       "      <td>9.0</td>\n",
       "      <td>20.0</td>\n",
       "      <td>83.0</td>\n",
       "      <td>231.0</td>\n",
       "    </tr>\n",
       "    <tr>\n",
       "      <th>2011</th>\n",
       "      <td>15.0</td>\n",
       "      <td>31.0</td>\n",
       "      <td>84.0</td>\n",
       "      <td>195.0</td>\n",
       "      <td>682.0</td>\n",
       "    </tr>\n",
       "    <tr>\n",
       "      <th>2012</th>\n",
       "      <td>46.0</td>\n",
       "      <td>39.0</td>\n",
       "      <td>130.0</td>\n",
       "      <td>378.0</td>\n",
       "      <td>1343.0</td>\n",
       "    </tr>\n",
       "    <tr>\n",
       "      <th>2013</th>\n",
       "      <td>77.0</td>\n",
       "      <td>93.0</td>\n",
       "      <td>319.0</td>\n",
       "      <td>835.0</td>\n",
       "      <td>2731.0</td>\n",
       "    </tr>\n",
       "    <tr>\n",
       "      <th>2014</th>\n",
       "      <td>68.0</td>\n",
       "      <td>73.0</td>\n",
       "      <td>203.0</td>\n",
       "      <td>536.0</td>\n",
       "      <td>1799.0</td>\n",
       "    </tr>\n",
       "  </tbody>\n",
       "</table>\n",
       "</div>"
      ],
      "text/plain": [
       "overall   1.0   2.0    3.0    4.0     5.0\n",
       "year                                     \n",
       "2004      0.0   0.0    0.0    1.0     6.0\n",
       "2005      0.0   0.0    0.0    1.0     3.0\n",
       "2006      1.0   0.0    1.0    2.0     6.0\n",
       "2007      0.0   1.0    0.0    5.0    16.0\n",
       "2008      0.0   2.0    7.0   18.0    36.0\n",
       "2009      3.0   2.0    8.0   30.0    85.0\n",
       "2010      7.0   9.0   20.0   83.0   231.0\n",
       "2011     15.0  31.0   84.0  195.0   682.0\n",
       "2012     46.0  39.0  130.0  378.0  1343.0\n",
       "2013     77.0  93.0  319.0  835.0  2731.0\n",
       "2014     68.0  73.0  203.0  536.0  1799.0"
      ]
     },
     "execution_count": 43,
     "metadata": {},
     "output_type": "execute_result"
    }
   ],
   "source": [
    "test3 = test2['len'].groupby('year').sum()\n",
    "test3"
   ]
  },
  {
   "cell_type": "code",
   "execution_count": 44,
   "metadata": {},
   "outputs": [],
   "source": [
    "# test3.info()\n",
    "test3.to_csv('df_year.csv', index = False, sep = ',', encoding = 'utf-8')"
   ]
  },
  {
   "cell_type": "code",
   "execution_count": 45,
   "metadata": {},
   "outputs": [
    {
     "data": {
      "image/png": "[encoded data removed]",
      "text/plain": [
       "<Figure size 432x288 with 1 Axes>"
      ]
     },
     "metadata": {
      "needs_background": "light"
     },
     "output_type": "display_data"
    }
   ],
   "source": [
    "sns.lineplot(data = test3) # .set(xlim = (1916, 2017))\n",
    "\n",
    "plt.title('Annual trend of each kind of reviews')\n",
    "plt.subplots_adjust(left = 0.1, right = 2, bottom = 0.1, top = 2, wspace = 1, hspace = 1)"
   ]
  },
  {
   "cell_type": "code",
   "execution_count": 46,
   "metadata": {},
   "outputs": [],
   "source": [
    "# have tried quarter.. too hard"
   ]
  },
  {
   "cell_type": "code",
   "execution_count": 47,
   "metadata": {},
   "outputs": [
    {
     "name": "stdout",
     "output_type": "stream",
     "text": [
      "<class 'pandas.core.frame.DataFrame'>\n",
      "RangeIndex: 10261 entries, 0 to 10260\n",
      "Data columns (total 2 columns):\n",
      " #   Column   Non-Null Count  Dtype  \n",
      "---  ------   --------------  -----  \n",
      " 0   overall  10261 non-null  float64\n",
      " 1   month    10261 non-null  int64  \n",
      "dtypes: float64(1), int64(1)\n",
      "memory usage: 160.5 KB\n"
     ]
    }
   ],
   "source": [
    "# explore the distribution of overall(stars of each review) in each month\n",
    "\n",
    "df_mo = df_q2[['overall', 'reviewTime']]\n",
    "df_mo['month'] = df_q2['reviewTime'].dt.month\n",
    "\n",
    "del df_mo['reviewTime']\n",
    "\n",
    "df_mo.info()"
   ]
  },
  {
   "cell_type": "code",
   "execution_count": 48,
   "metadata": {},
   "outputs": [
    {
     "data": {
      "text/html": [
       "<div>\n",
       "<style scoped>\n",
       "    .dataframe tbody tr th:only-of-type {\n",
       "        vertical-align: middle;\n",
       "    }\n",
       "\n",
       "    .dataframe tbody tr th {\n",
       "        vertical-align: top;\n",
       "    }\n",
       "\n",
       "    .dataframe thead th {\n",
       "        text-align: right;\n",
       "    }\n",
       "</style>\n",
       "<table border=\"1\" class=\"dataframe\">\n",
       "  <thead>\n",
       "    <tr style=\"text-align: right;\">\n",
       "      <th></th>\n",
       "      <th>overall</th>\n",
       "      <th>month</th>\n",
       "    </tr>\n",
       "  </thead>\n",
       "  <tbody>\n",
       "    <tr>\n",
       "      <th>0</th>\n",
       "      <td>5.0</td>\n",
       "      <td>2</td>\n",
       "    </tr>\n",
       "    <tr>\n",
       "      <th>1</th>\n",
       "      <td>5.0</td>\n",
       "      <td>3</td>\n",
       "    </tr>\n",
       "    <tr>\n",
       "      <th>2</th>\n",
       "      <td>5.0</td>\n",
       "      <td>8</td>\n",
       "    </tr>\n",
       "    <tr>\n",
       "      <th>3</th>\n",
       "      <td>5.0</td>\n",
       "      <td>2</td>\n",
       "    </tr>\n",
       "    <tr>\n",
       "      <th>4</th>\n",
       "      <td>5.0</td>\n",
       "      <td>2</td>\n",
       "    </tr>\n",
       "  </tbody>\n",
       "</table>\n",
       "</div>"
      ],
      "text/plain": [
       "   overall  month\n",
       "0      5.0      2\n",
       "1      5.0      3\n",
       "2      5.0      8\n",
       "3      5.0      2\n",
       "4      5.0      2"
      ]
     },
     "execution_count": 48,
     "metadata": {},
     "output_type": "execute_result"
    }
   ],
   "source": [
    "df_mo.head()"
   ]
  },
  {
   "cell_type": "code",
   "execution_count": 49,
   "metadata": {},
   "outputs": [],
   "source": [
    "test = df_mo\n",
    "test['overall'] = test['overall'].astype('object')"
   ]
  },
  {
   "cell_type": "code",
   "execution_count": 50,
   "metadata": {},
   "outputs": [],
   "source": [
    "test2 = pd.pivot_table(test, index = ['month'], columns = ['overall'], aggfunc = [len])"
   ]
  },
  {
   "cell_type": "code",
   "execution_count": 51,
   "metadata": {},
   "outputs": [
    {
     "data": {
      "text/html": [
       "<div>\n",
       "<style scoped>\n",
       "    .dataframe tbody tr th:only-of-type {\n",
       "        vertical-align: middle;\n",
       "    }\n",
       "\n",
       "    .dataframe tbody tr th {\n",
       "        vertical-align: top;\n",
       "    }\n",
       "\n",
       "    .dataframe thead th {\n",
       "        text-align: right;\n",
       "    }\n",
       "</style>\n",
       "<table border=\"1\" class=\"dataframe\">\n",
       "  <thead>\n",
       "    <tr style=\"text-align: right;\">\n",
       "      <th>overall</th>\n",
       "      <th>1.0</th>\n",
       "      <th>2.0</th>\n",
       "      <th>3.0</th>\n",
       "      <th>4.0</th>\n",
       "      <th>5.0</th>\n",
       "    </tr>\n",
       "    <tr>\n",
       "      <th>month</th>\n",
       "      <th></th>\n",
       "      <th></th>\n",
       "      <th></th>\n",
       "      <th></th>\n",
       "      <th></th>\n",
       "    </tr>\n",
       "  </thead>\n",
       "  <tbody>\n",
       "    <tr>\n",
       "      <th>1</th>\n",
       "      <td>32</td>\n",
       "      <td>36</td>\n",
       "      <td>95</td>\n",
       "      <td>256</td>\n",
       "      <td>847</td>\n",
       "    </tr>\n",
       "    <tr>\n",
       "      <th>2</th>\n",
       "      <td>19</td>\n",
       "      <td>23</td>\n",
       "      <td>86</td>\n",
       "      <td>228</td>\n",
       "      <td>707</td>\n",
       "    </tr>\n",
       "    <tr>\n",
       "      <th>3</th>\n",
       "      <td>26</td>\n",
       "      <td>22</td>\n",
       "      <td>83</td>\n",
       "      <td>208</td>\n",
       "      <td>704</td>\n",
       "    </tr>\n",
       "    <tr>\n",
       "      <th>4</th>\n",
       "      <td>19</td>\n",
       "      <td>13</td>\n",
       "      <td>67</td>\n",
       "      <td>179</td>\n",
       "      <td>644</td>\n",
       "    </tr>\n",
       "    <tr>\n",
       "      <th>5</th>\n",
       "      <td>18</td>\n",
       "      <td>24</td>\n",
       "      <td>62</td>\n",
       "      <td>159</td>\n",
       "      <td>588</td>\n",
       "    </tr>\n",
       "    <tr>\n",
       "      <th>6</th>\n",
       "      <td>26</td>\n",
       "      <td>28</td>\n",
       "      <td>57</td>\n",
       "      <td>174</td>\n",
       "      <td>524</td>\n",
       "    </tr>\n",
       "    <tr>\n",
       "      <th>7</th>\n",
       "      <td>9</td>\n",
       "      <td>19</td>\n",
       "      <td>63</td>\n",
       "      <td>152</td>\n",
       "      <td>502</td>\n",
       "    </tr>\n",
       "    <tr>\n",
       "      <th>8</th>\n",
       "      <td>8</td>\n",
       "      <td>13</td>\n",
       "      <td>44</td>\n",
       "      <td>127</td>\n",
       "      <td>424</td>\n",
       "    </tr>\n",
       "    <tr>\n",
       "      <th>9</th>\n",
       "      <td>7</td>\n",
       "      <td>20</td>\n",
       "      <td>42</td>\n",
       "      <td>126</td>\n",
       "      <td>387</td>\n",
       "    </tr>\n",
       "    <tr>\n",
       "      <th>10</th>\n",
       "      <td>18</td>\n",
       "      <td>9</td>\n",
       "      <td>41</td>\n",
       "      <td>133</td>\n",
       "      <td>411</td>\n",
       "    </tr>\n",
       "    <tr>\n",
       "      <th>11</th>\n",
       "      <td>15</td>\n",
       "      <td>22</td>\n",
       "      <td>52</td>\n",
       "      <td>147</td>\n",
       "      <td>498</td>\n",
       "    </tr>\n",
       "    <tr>\n",
       "      <th>12</th>\n",
       "      <td>20</td>\n",
       "      <td>21</td>\n",
       "      <td>80</td>\n",
       "      <td>195</td>\n",
       "      <td>702</td>\n",
       "    </tr>\n",
       "  </tbody>\n",
       "</table>\n",
       "</div>"
      ],
      "text/plain": [
       "overall  1.0  2.0  3.0  4.0  5.0\n",
       "month                           \n",
       "1         32   36   95  256  847\n",
       "2         19   23   86  228  707\n",
       "3         26   22   83  208  704\n",
       "4         19   13   67  179  644\n",
       "5         18   24   62  159  588\n",
       "6         26   28   57  174  524\n",
       "7          9   19   63  152  502\n",
       "8          8   13   44  127  424\n",
       "9          7   20   42  126  387\n",
       "10        18    9   41  133  411\n",
       "11        15   22   52  147  498\n",
       "12        20   21   80  195  702"
      ]
     },
     "execution_count": 51,
     "metadata": {},
     "output_type": "execute_result"
    }
   ],
   "source": [
    "test3 = test2['len'].groupby('month').sum()\n",
    "test3"
   ]
  },
  {
   "cell_type": "code",
   "execution_count": 52,
   "metadata": {},
   "outputs": [],
   "source": [
    "test3.to_csv('df_month.csv', index = False, sep = ',', encoding = 'utf-8')"
   ]
  },
  {
   "cell_type": "code",
   "execution_count": 53,
   "metadata": {},
   "outputs": [
    {
     "data": {
      "image/png": "[encoded data removed]",
      "text/plain": [
       "<Figure size 432x288 with 1 Axes>"
      ]
     },
     "metadata": {
      "needs_background": "light"
     },
     "output_type": "display_data"
    }
   ],
   "source": [
    "sns.lineplot(data = test3) # .set(xlim = (1916, 2017))\n",
    "\n",
    "plt.title('Month trend of each kind of reviews')\n",
    "plt.subplots_adjust(left = 0.1, right = 2, bottom = 0.1, top = 2, wspace = 1, hspace = 1)"
   ]
  },
  {
   "cell_type": "markdown",
   "metadata": {},
   "source": [
    "----"
   ]
  },
  {
   "cell_type": "code",
   "execution_count": 54,
   "metadata": {},
   "outputs": [],
   "source": [
    "# Q3. Process two or more collections of data and compare some summary data about the two collections together."
   ]
  },
  {
   "cell_type": "code",
   "execution_count": 55,
   "metadata": {},
   "outputs": [],
   "source": [
    "# o\tFor example,\n",
    "# collect Twitter user timelines from different political candidates and compare the number of retweets of their tweets."
   ]
  },
  {
   "cell_type": "code",
   "execution_count": 56,
   "metadata": {},
   "outputs": [],
   "source": [
    "# in this question, I set overall higher than 3 as positive, and the others as negative, compare this two groups"
   ]
  },
  {
   "cell_type": "code",
   "execution_count": 57,
   "metadata": {},
   "outputs": [],
   "source": [
    "df_q3 = df_new[['overall', 'text']]"
   ]
  },
  {
   "cell_type": "code",
   "execution_count": 58,
   "metadata": {},
   "outputs": [
    {
     "data": {
      "text/html": [
       "<div>\n",
       "<style scoped>\n",
       "    .dataframe tbody tr th:only-of-type {\n",
       "        vertical-align: middle;\n",
       "    }\n",
       "\n",
       "    .dataframe tbody tr th {\n",
       "        vertical-align: top;\n",
       "    }\n",
       "\n",
       "    .dataframe thead th {\n",
       "        text-align: right;\n",
       "    }\n",
       "</style>\n",
       "<table border=\"1\" class=\"dataframe\">\n",
       "  <thead>\n",
       "    <tr style=\"text-align: right;\">\n",
       "      <th></th>\n",
       "      <th>text</th>\n",
       "      <th>POS</th>\n",
       "    </tr>\n",
       "  </thead>\n",
       "  <tbody>\n",
       "    <tr>\n",
       "      <th>0</th>\n",
       "      <td>Not much to write about here, but it does exac...</td>\n",
       "      <td>1</td>\n",
       "    </tr>\n",
       "    <tr>\n",
       "      <th>1</th>\n",
       "      <td>The product does exactly as it should and is q...</td>\n",
       "      <td>1</td>\n",
       "    </tr>\n",
       "    <tr>\n",
       "      <th>2</th>\n",
       "      <td>The primary job of this device is to block the...</td>\n",
       "      <td>1</td>\n",
       "    </tr>\n",
       "    <tr>\n",
       "      <th>3</th>\n",
       "      <td>Nice windscreen protects my MXL mic and preven...</td>\n",
       "      <td>1</td>\n",
       "    </tr>\n",
       "    <tr>\n",
       "      <th>4</th>\n",
       "      <td>This pop filter is great. It looks and perform...</td>\n",
       "      <td>1</td>\n",
       "    </tr>\n",
       "  </tbody>\n",
       "</table>\n",
       "</div>"
      ],
      "text/plain": [
       "                                                text  POS\n",
       "0  Not much to write about here, but it does exac...    1\n",
       "1  The product does exactly as it should and is q...    1\n",
       "2  The primary job of this device is to block the...    1\n",
       "3  Nice windscreen protects my MXL mic and preven...    1\n",
       "4  This pop filter is great. It looks and perform...    1"
      ]
     },
     "execution_count": 58,
     "metadata": {},
     "output_type": "execute_result"
    }
   ],
   "source": [
    "df_q3[\"POS\"] = df_q3[\"overall\"].apply(lambda x: 0 if x < 4  else 1)\n",
    "\n",
    "del df_q3['overall']\n",
    "\n",
    "df_q3.head()"
   ]
  },
  {
   "cell_type": "code",
   "execution_count": 59,
   "metadata": {},
   "outputs": [],
   "source": [
    "df_pos = df_q3[df_q3.POS == 1]\n",
    "df_neg = df_q3[df_q3.POS == 0]"
   ]
  },
  {
   "cell_type": "markdown",
   "metadata": {},
   "source": [
    "### Positive features"
   ]
  },
  {
   "cell_type": "code",
   "execution_count": 60,
   "metadata": {},
   "outputs": [
    {
     "data": {
      "text/plain": [
       "[('years playing', 999),\n",
       " ('years old', 998),\n",
       " ('years come', 997),\n",
       " ('years always', 996),\n",
       " ('years ago', 995),\n",
       " ('year old', 994),\n",
       " ('year ago', 993),\n",
       " ('wound strings', 992),\n",
       " ('would work', 991),\n",
       " ('would use', 990),\n",
       " ('would suggest', 989),\n",
       " ('would say', 988),\n",
       " ('would recommend anyone', 987),\n",
       " ('would recommend', 986),\n",
       " ('would purchase', 985),\n",
       " ('would probably', 984),\n",
       " ('would nice', 983),\n",
       " ('would make', 982),\n",
       " ('would like', 981),\n",
       " ('would highly recommend', 980),\n",
       " ('would highly', 979),\n",
       " ('would great', 978),\n",
       " ('would give', 977),\n",
       " ('would get', 976),\n",
       " ('would expect', 975),\n",
       " ('would definitely', 974),\n",
       " ('would buy', 973),\n",
       " ('worth price', 972),\n",
       " ('worth money', 971),\n",
       " ('worth extra', 970),\n",
       " ('worth every penny', 969),\n",
       " ('worth every', 968),\n",
       " ('works well', 967),\n",
       " ('works really well', 966),\n",
       " ('works really', 965),\n",
       " ('works perfectly', 964),\n",
       " ('works perfect', 963),\n",
       " ('works like charm', 962),\n",
       " ('works like', 961),\n",
       " ('works great', 960),\n",
       " ('works good', 959),\n",
       " ('works fine', 958),\n",
       " ('works better', 957),\n",
       " ('works advertised', 956),\n",
       " ('worked well', 955),\n",
       " ('worked perfectly', 954),\n",
       " ('worked great', 953),\n",
       " ('worked fine', 952),\n",
       " ('work well', 951),\n",
       " ('work great', 950)]"
      ]
     },
     "execution_count": 60,
     "metadata": {},
     "output_type": "execute_result"
    }
   ],
   "source": [
    "\n",
    "stop_words = stopwords.words('english') \n",
    "no_features = 1000\n",
    "\n",
    "tf_vectorizer = CountVectorizer(max_df = 0.98, min_df = 3, max_features = no_features, \n",
    "                                stop_words = stop_words, ngram_range = (2, 3))\n",
    "tf = tf_vectorizer.fit_transform(df_pos['text'])\n",
    "tf_feature_names = tf_vectorizer.get_feature_names()\n",
    "\n",
    "sorted(list(tf_vectorizer.vocabulary_.items()), reverse = True)[:50]"
   ]
  },
  {
   "cell_type": "markdown",
   "metadata": {},
   "source": [
    "#### Visualization"
   ]
  },
  {
   "cell_type": "code",
   "execution_count": 61,
   "metadata": {},
   "outputs": [],
   "source": [
    "word_counts = dict(tf_vectorizer.vocabulary_.items())"
   ]
  },
  {
   "cell_type": "code",
   "execution_count": 62,
   "metadata": {},
   "outputs": [
    {
     "data": {
      "image/png": "[encoded data removed]",
      "text/plain": [
       "<Figure size 432x288 with 1 Axes>"
      ]
     },
     "metadata": {
      "needs_background": "light"
     },
     "output_type": "display_data"
    },
    {
     "data": {
      "text/plain": [
       "<wordcloud.wordcloud.WordCloud at 0x1d79383fe48>"
      ]
     },
     "execution_count": 62,
     "metadata": {},
     "output_type": "execute_result"
    }
   ],
   "source": [
    "mask = imageio.imread(\"pos.jpg\")\n",
    "\n",
    "wc = wordcloud.WordCloud(\n",
    "    font_path='C:/Windows/Fonts/Bahnschrift.ttf', \n",
    "    mask=mask, \n",
    "    max_words=200, \n",
    "    #max_font_size=100 \n",
    "    width=1000,\n",
    "    height=700,\n",
    "    background_color='white' #,\n",
    "    # scale = 15\n",
    "\n",
    ")\n",
    "\n",
    "image_colors = ImageColorGenerator(mask)\n",
    "\n",
    "\n",
    "wc.generate_from_frequencies(word_counts) \n",
    "plt.imshow(wc.recolor(color_func=image_colors), interpolation='bilinear') \n",
    "plt.axis('off') \n",
    "plt.show() \n",
    "\n",
    "wc.to_file('POS.png')"
   ]
  },
  {
   "cell_type": "markdown",
   "metadata": {},
   "source": [
    "### Negative features"
   ]
  },
  {
   "cell_type": "code",
   "execution_count": 63,
   "metadata": {},
   "outputs": [
    {
     "data": {
      "text/plain": [
       "[('years never', 999),\n",
       " ('years ago', 998),\n",
       " ('year old', 997),\n",
       " ('year ago', 996),\n",
       " ('xlr cable', 995),\n",
       " ('wrong way', 994),\n",
       " ('would work', 993),\n",
       " ('would want', 992),\n",
       " ('would use', 991),\n",
       " ('would try', 990),\n",
       " ('would think', 989),\n",
       " ('would suggest', 988),\n",
       " ('would stay', 987),\n",
       " ('would say', 986),\n",
       " ('would returned', 985),\n",
       " ('would recommend', 984),\n",
       " ('would rather', 983),\n",
       " ('would probably', 982),\n",
       " ('would prefer', 981),\n",
       " ('would nice', 980),\n",
       " ('would never', 979),\n",
       " ('would make', 978),\n",
       " ('would look', 977),\n",
       " ('would likely', 976),\n",
       " ('would like', 975),\n",
       " ('would last', 974),\n",
       " ('would hold', 973),\n",
       " ('would great', 972),\n",
       " ('would go', 971),\n",
       " ('would given', 970),\n",
       " ('would give', 969),\n",
       " ('would get', 968),\n",
       " ('would fit', 967),\n",
       " ('would fine', 966),\n",
       " ('would expect', 965),\n",
       " ('would definitely', 964),\n",
       " ('would cost', 963),\n",
       " ('would buy', 962),\n",
       " ('would better', 961),\n",
       " ('worth price', 960),\n",
       " ('worth money', 959),\n",
       " ('worth hassle', 958),\n",
       " ('worth extra cost', 957),\n",
       " ('worth extra', 956),\n",
       " ('works well', 955),\n",
       " ('works really', 954),\n",
       " ('works pretty good', 953),\n",
       " ('works pretty', 952),\n",
       " ('works perfectly', 951),\n",
       " ('works okay', 950)]"
      ]
     },
     "execution_count": 63,
     "metadata": {},
     "output_type": "execute_result"
    }
   ],
   "source": [
    "\n",
    "stop_words = stopwords.words('english') \n",
    "no_features = 1000\n",
    "\n",
    "tf_vectorizer = CountVectorizer(max_df = 0.98, min_df = 3, max_features = no_features, \n",
    "                                stop_words = stop_words, ngram_range = (2, 3))\n",
    "tf = tf_vectorizer.fit_transform(df_neg['text'])\n",
    "tf_feature_names = tf_vectorizer.get_feature_names()\n",
    "\n",
    "sorted(list(tf_vectorizer.vocabulary_.items()), reverse = True)[:50]"
   ]
  },
  {
   "cell_type": "markdown",
   "metadata": {},
   "source": [
    "#### Visualization"
   ]
  },
  {
   "cell_type": "code",
   "execution_count": 64,
   "metadata": {},
   "outputs": [],
   "source": [
    "word_counts = dict(tf_vectorizer.vocabulary_.items())"
   ]
  },
  {
   "cell_type": "code",
   "execution_count": 65,
   "metadata": {},
   "outputs": [
    {
     "data": {
      "image/png": "[encoded data removed]",
      "text/plain": [
       "<Figure size 432x288 with 1 Axes>"
      ]
     },
     "metadata": {
      "needs_background": "light"
     },
     "output_type": "display_data"
    },
    {
     "data": {
      "text/plain": [
       "<wordcloud.wordcloud.WordCloud at 0x1d793969648>"
      ]
     },
     "execution_count": 65,
     "metadata": {},
     "output_type": "execute_result"
    }
   ],
   "source": [
    "mask = imageio.imread(\"neg.jpg\")\n",
    "\n",
    "wc = wordcloud.WordCloud(\n",
    "    font_path='C:/Windows/Fonts/Bahnschrift.ttf', \n",
    "    mask=mask, \n",
    "    max_words=200, \n",
    "    #max_font_size=100 \n",
    "    width=1000,\n",
    "    height=700,\n",
    "    background_color='white' #,\n",
    "    # scale = 15\n",
    "\n",
    ")\n",
    "\n",
    "image_colors = ImageColorGenerator(mask)\n",
    "\n",
    "\n",
    "wc.generate_from_frequencies(word_counts) \n",
    "plt.imshow(wc.recolor(color_func=image_colors), interpolation='bilinear') \n",
    "plt.axis('off') \n",
    "plt.show() \n",
    "\n",
    "wc.to_file('NEG.png')"
   ]
  },
  {
   "cell_type": "code",
   "execution_count": null,
   "metadata": {},
   "outputs": [],
   "source": []
  }
 ],
 "metadata": {
  "kernelspec": {
   "display_name": "Python 3",
   "language": "python",
   "name": "python3"
  },
  "language_info": {
   "codemirror_mode": {
    "name": "ipython",
    "version": 3
   },
   "file_extension": ".py",
   "mimetype": "text/x-python",
   "name": "python",
   "nbconvert_exporter": "python",
   "pygments_lexer": "ipython3",
   "version": "3.7.6"
  }
 },
 "nbformat": 4,
 "nbformat_minor": 4
}
